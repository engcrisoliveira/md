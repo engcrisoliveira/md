{
 "cells": [
  {
   "cell_type": "code",
   "execution_count": 40,
   "metadata": {},
   "outputs": [
    {
     "name": "stderr",
     "output_type": "stream",
     "text": [
      "UsageError: unrecognized arguments: #usar esse comando para não precisar dar plt.show em cada gráfico\n"
     ]
    }
   ],
   "source": [
    "#Importando as bibliotecas\n",
    "from mysql.connector import Error, connect\n",
    "from dotenv import load_dotenv\n",
    "import pandas as pd\n",
    "import seaborn as sns\n",
    "import matplotlib.pyplot as plt\n",
    "import os"
   ]
  },
  {
   "cell_type": "code",
   "execution_count": 92,
   "metadata": {},
   "outputs": [],
   "source": [
    "#Configuração para visualização dos gráficos\n",
    "sns.set_theme(palette='crest_r')"
   ]
  },
  {
   "cell_type": "code",
   "execution_count": 13,
   "metadata": {},
   "outputs": [
    {
     "data": {
      "text/plain": [
       "True"
      ]
     },
     "execution_count": 13,
     "metadata": {},
     "output_type": "execute_result"
    }
   ],
   "source": [
    "#Carregando as variáveis de ambiente\n",
    "load_dotenv()"
   ]
  },
  {
   "cell_type": "code",
   "execution_count": 14,
   "metadata": {},
   "outputs": [],
   "source": [
    "#Criando conexão com o banco de dados\n",
    "conn = connect(\n",
    "    host=os.getenv(\"HOST\"),\n",
    "    user=os.getenv(\"LOGIN\"),\n",
    "    password=os.getenv(\"SENHA\"),\n",
    "    database=os.getenv(\"DW\")\n",
    ")"
   ]
  },
  {
   "cell_type": "code",
   "execution_count": 15,
   "metadata": {},
   "outputs": [],
   "source": [
    "#conn.close()"
   ]
  },
  {
   "cell_type": "code",
   "execution_count": 16,
   "metadata": {},
   "outputs": [],
   "source": [
    "# Teste\n",
    "# cursor = conn.cursor()\n",
    "# cursor.execute(\"select * from fatocursodeficiencia\")\n",
    "# rows = cursor.fetchall()\n",
    "# cursor.close()\n",
    "# print(rows[0])"
   ]
  },
  {
   "cell_type": "code",
   "execution_count": 17,
   "metadata": {},
   "outputs": [
    {
     "data": {
      "text/html": [
       "<div>\n",
       "<style scoped>\n",
       "    .dataframe tbody tr th:only-of-type {\n",
       "        vertical-align: middle;\n",
       "    }\n",
       "\n",
       "    .dataframe tbody tr th {\n",
       "        vertical-align: top;\n",
       "    }\n",
       "\n",
       "    .dataframe thead th {\n",
       "        text-align: right;\n",
       "    }\n",
       "</style>\n",
       "<table border=\"1\" class=\"dataframe\">\n",
       "  <thead>\n",
       "    <tr style=\"text-align: right;\">\n",
       "      <th></th>\n",
       "      <th>num_recursos</th>\n",
       "      <th>num_matriculados</th>\n",
       "      <th>num_concluintes</th>\n",
       "      <th>dimcurso_key</th>\n",
       "      <th>dimcurso_cod_curso</th>\n",
       "      <th>dimrecursoacessibilidade_key</th>\n",
       "      <th>dimrecursoacessibilidade_codigo_curso</th>\n",
       "      <th>dimaluno_key</th>\n",
       "      <th>dimaluno_id_aluno</th>\n",
       "      <th>dimies_key</th>\n",
       "      <th>dimies_cod_ies</th>\n",
       "      <th>dimano_key</th>\n",
       "      <th>dimano_ano</th>\n",
       "      <th>dimdeficiencia_key</th>\n",
       "      <th>dimdeficiencia_id_aluno</th>\n",
       "      <th>dimregiao_key</th>\n",
       "      <th>dimregiao_cod_municipio</th>\n",
       "    </tr>\n",
       "  </thead>\n",
       "  <tbody>\n",
       "    <tr>\n",
       "      <th>0</th>\n",
       "      <td>1.0</td>\n",
       "      <td>447</td>\n",
       "      <td>75</td>\n",
       "      <td>1</td>\n",
       "      <td>1</td>\n",
       "      <td>1</td>\n",
       "      <td>1</td>\n",
       "      <td>1</td>\n",
       "      <td>1</td>\n",
       "      <td>1</td>\n",
       "      <td>1</td>\n",
       "      <td>1</td>\n",
       "      <td>2019</td>\n",
       "      <td>1</td>\n",
       "      <td>1</td>\n",
       "      <td>1</td>\n",
       "      <td>5103403</td>\n",
       "    </tr>\n",
       "    <tr>\n",
       "      <th>1</th>\n",
       "      <td>1.0</td>\n",
       "      <td>447</td>\n",
       "      <td>75</td>\n",
       "      <td>1</td>\n",
       "      <td>1</td>\n",
       "      <td>1</td>\n",
       "      <td>1</td>\n",
       "      <td>2</td>\n",
       "      <td>2</td>\n",
       "      <td>1</td>\n",
       "      <td>1</td>\n",
       "      <td>1</td>\n",
       "      <td>2019</td>\n",
       "      <td>2</td>\n",
       "      <td>2</td>\n",
       "      <td>1</td>\n",
       "      <td>5103403</td>\n",
       "    </tr>\n",
       "    <tr>\n",
       "      <th>2</th>\n",
       "      <td>1.0</td>\n",
       "      <td>447</td>\n",
       "      <td>75</td>\n",
       "      <td>1</td>\n",
       "      <td>1</td>\n",
       "      <td>1</td>\n",
       "      <td>1</td>\n",
       "      <td>3</td>\n",
       "      <td>3</td>\n",
       "      <td>1</td>\n",
       "      <td>1</td>\n",
       "      <td>1</td>\n",
       "      <td>2019</td>\n",
       "      <td>3</td>\n",
       "      <td>3</td>\n",
       "      <td>1</td>\n",
       "      <td>5103403</td>\n",
       "    </tr>\n",
       "    <tr>\n",
       "      <th>3</th>\n",
       "      <td>1.0</td>\n",
       "      <td>447</td>\n",
       "      <td>75</td>\n",
       "      <td>1</td>\n",
       "      <td>1</td>\n",
       "      <td>1</td>\n",
       "      <td>1</td>\n",
       "      <td>4</td>\n",
       "      <td>4</td>\n",
       "      <td>1</td>\n",
       "      <td>1</td>\n",
       "      <td>1</td>\n",
       "      <td>2019</td>\n",
       "      <td>4</td>\n",
       "      <td>4</td>\n",
       "      <td>1</td>\n",
       "      <td>5103403</td>\n",
       "    </tr>\n",
       "    <tr>\n",
       "      <th>4</th>\n",
       "      <td>1.0</td>\n",
       "      <td>447</td>\n",
       "      <td>75</td>\n",
       "      <td>1</td>\n",
       "      <td>1</td>\n",
       "      <td>1</td>\n",
       "      <td>1</td>\n",
       "      <td>5</td>\n",
       "      <td>5</td>\n",
       "      <td>1</td>\n",
       "      <td>1</td>\n",
       "      <td>1</td>\n",
       "      <td>2019</td>\n",
       "      <td>5</td>\n",
       "      <td>5</td>\n",
       "      <td>1</td>\n",
       "      <td>5103403</td>\n",
       "    </tr>\n",
       "  </tbody>\n",
       "</table>\n",
       "</div>"
      ],
      "text/plain": [
       "   num_recursos  num_matriculados  num_concluintes  dimcurso_key  \\\n",
       "0           1.0               447               75             1   \n",
       "1           1.0               447               75             1   \n",
       "2           1.0               447               75             1   \n",
       "3           1.0               447               75             1   \n",
       "4           1.0               447               75             1   \n",
       "\n",
       "   dimcurso_cod_curso  dimrecursoacessibilidade_key  \\\n",
       "0                   1                             1   \n",
       "1                   1                             1   \n",
       "2                   1                             1   \n",
       "3                   1                             1   \n",
       "4                   1                             1   \n",
       "\n",
       "   dimrecursoacessibilidade_codigo_curso  dimaluno_key  dimaluno_id_aluno  \\\n",
       "0                                      1             1                  1   \n",
       "1                                      1             2                  2   \n",
       "2                                      1             3                  3   \n",
       "3                                      1             4                  4   \n",
       "4                                      1             5                  5   \n",
       "\n",
       "   dimies_key  dimies_cod_ies  dimano_key  dimano_ano  dimdeficiencia_key  \\\n",
       "0           1               1           1        2019                   1   \n",
       "1           1               1           1        2019                   2   \n",
       "2           1               1           1        2019                   3   \n",
       "3           1               1           1        2019                   4   \n",
       "4           1               1           1        2019                   5   \n",
       "\n",
       "   dimdeficiencia_id_aluno  dimregiao_key  dimregiao_cod_municipio  \n",
       "0                        1              1                  5103403  \n",
       "1                        2              1                  5103403  \n",
       "2                        3              1                  5103403  \n",
       "3                        4              1                  5103403  \n",
       "4                        5              1                  5103403  "
      ]
     },
     "execution_count": 17,
     "metadata": {},
     "output_type": "execute_result"
    }
   ],
   "source": [
    "df_fato = pd.read_sql(\"select * from fatocursodeficiencia\", con=conn)\n",
    "df_fato.head()"
   ]
  },
  {
   "cell_type": "markdown",
   "metadata": {},
   "source": [
    "#Queries para o Data WareHouse"
   ]
  },
  {
   "cell_type": "markdown",
   "metadata": {},
   "source": [
    "1. Quais estados têm mais alunos com deficiência matriculados no ensino superior?"
   ]
  },
  {
   "cell_type": "code",
   "execution_count": 45,
   "metadata": {},
   "outputs": [],
   "source": [
    "query1 = ('select count(f.dimaluno_key) as `alunos com deficiência`, r.estado from md03_dw.fatocursodeficiencia f ' \n",
    "'join md03_dw.dimregiao r on f.dimregiao_key = r.`key` group by r.estado order by `alunos com deficiência` desc limit 10;')\n",
    "df_alunos_def_por_estado = pd.read_sql(query1, con=conn)"
   ]
  },
  {
   "cell_type": "code",
   "execution_count": 94,
   "metadata": {},
   "outputs": [
    {
     "data": {
      "image/png": "[encoded data removed]",
      "text/plain": [
       "<Figure size 1008x216 with 1 Axes>"
      ]
     },
     "metadata": {},
     "output_type": "display_data"
    }
   ],
   "source": [
    "plt.rcParams['figure.figsize'] = (14,3)\n",
    "sns.barplot(data = df_alunos_def_por_estado, x = 'estado', y = 'alunos com deficiência',palette='crest_r')\n",
    "plt.title('Estados com maior número de alunos com deficiência no Ensino Superior')\n",
    "plt.xlabel('Estados')\n",
    "plt.ylabel('Alunos')\n",
    "plt.savefig('figura1.png', transparent = True)"
   ]
  },
  {
   "cell_type": "markdown",
   "metadata": {},
   "source": [
    "2. Como os alunos com deficiência estão distribuídos pela raça no ensino superior?"
   ]
  },
  {
   "cell_type": "code",
   "execution_count": 63,
   "metadata": {},
   "outputs": [],
   "source": [
    "query2 = ('select raca as raça, count(`key`) as `alunos com deficiência` from dimaluno a '\n",
    "'where a.raca in (\"preta\", \"parda\", \"amarela\", \"branca\") group by a.raca')\n",
    "df_alunos_raca = pd.read_sql(query2, con=conn)"
   ]
  },
  {
   "cell_type": "code",
   "execution_count": 62,
   "metadata": {},
   "outputs": [
    {
     "data": {
      "image/png": "[encoded data removed]",
      "text/plain": [
       "<Figure size 360x216 with 1 Axes>"
      ]
     },
     "metadata": {
      "needs_background": "light"
     },
     "output_type": "display_data"
    }
   ],
   "source": [
    "plt.rcParams['figure.figsize'] = (5,3)\n",
    "sns.barplot(data = df_alunos_raca, x = 'raça', y = 'alunos com deficiência',palette='crest_r')\n",
    "plt.title('Perfil dos alunos com deficiência no Ensino Superior')\n",
    "plt.xlabel('Raça')\n",
    "plt.ylabel('Alunos')\n",
    "plt.savefig('figura2.png', transparent = True)"
   ]
  },
  {
   "cell_type": "markdown",
   "metadata": {},
   "source": [
    "3. Em quais estados há mais alunos matriculados com deficiência auditiva?"
   ]
  },
  {
   "cell_type": "code",
   "execution_count": 81,
   "metadata": {},
   "outputs": [
    {
     "data": {
      "image/png": "[encoded data removed]",
      "text/plain": [
       "<Figure size 720x216 with 1 Axes>"
      ]
     },
     "metadata": {
      "needs_background": "light"
     },
     "output_type": "display_data"
    }
   ],
   "source": [
    "query3 = ('select sum(d.deficiencia_auditiva) as `deficiência auditiva`, i.sigla '\n",
    "'from md03_dw.fatocursodeficiencia f join md03_dw.dimdeficiencia d on f.dimdeficiencia_key = d.`key` '\n",
    "'join md03_dw.dimies i on f.dimies_key = i.`key` group by i.nome order by `deficiência auditiva` desc limit 10')\n",
    "df_defauditiva_por_ies = pd.read_sql(query3, con=conn)\n",
    "plt.rcParams['figure.figsize'] = (10,3)\n",
    "sns.barplot(data = df_defauditiva_por_ies, x = 'sigla', y = 'deficiência auditiva',palette='crest_r')\n",
    "plt.title('IES com mais alunos com deficiência auditiva no Ensino Superior')\n",
    "plt.xlabel('IES')\n",
    "plt.ylabel('Alunos')\n",
    "plt.savefig('figura3.png', transparent = True)"
   ]
  },
  {
   "cell_type": "markdown",
   "metadata": {},
   "source": [
    "4. Qual a região com mais alunos matriculados com deficiência?"
   ]
  },
  {
   "cell_type": "code",
   "execution_count": 82,
   "metadata": {},
   "outputs": [
    {
     "data": {
      "image/png": "[encoded data removed]",
      "text/plain": [
       "<Figure size 576x216 with 1 Axes>"
      ]
     },
     "metadata": {
      "needs_background": "light"
     },
     "output_type": "display_data"
    }
   ],
   "source": [
    "query4 = ('select count(f.dimaluno_key) as alunos, r.regiao '\n",
    "'from md03_dw.fatocursodeficiencia f join md03_dw.dimregiao r on f.dimregiao_key = r.`key` '\n",
    "'group by r.regiao')\n",
    "df_matriculados_por_regiao = pd.read_sql(query4, con=conn)\n",
    "plt.rcParams['figure.figsize'] = (8,3)\n",
    "sns.barplot(data = df_matriculados_por_regiao, x = 'regiao', y = 'alunos',palette='crest_r')\n",
    "plt.title('Alunos com deficiência no Ensino Superior')\n",
    "plt.xlabel('Região')\n",
    "plt.ylabel('Alunos')\n",
    "plt.savefig('figura4.png', transparent = True)"
   ]
  },
  {
   "cell_type": "markdown",
   "metadata": {},
   "source": [
    "5. Quantos cursos possuem todos os tipos de recursos de acessibilidade?"
   ]
  },
  {
   "cell_type": "code",
   "execution_count": 116,
   "metadata": {},
   "outputs": [
    {
     "data": {
      "image/png": "[encoded data removed]",
      "text/plain": [
       "<Figure size 360x216 with 1 Axes>"
      ]
     },
     "metadata": {},
     "output_type": "display_data"
    }
   ],
   "source": [
    "query5 = ('select count(r.key) as cursos, '\n",
    "'r.mdig_mampl_mtat_mimp_maud_mbrai_mlib_dlib_tlib_ginter_rcom_rinfo as `todos os recursos` '\n",
    "'from md03_dw.dimrecursosacessibilidade r group by '\n",
    "'r.mdig_mampl_mtat_mimp_maud_mbrai_mlib_dlib_tlib_ginter_rcom_rinfo')\n",
    "df_todos_recursos = pd.read_sql(query5, con=conn)\n",
    "labels = ['Não','Sim']\n",
    "plt.rcParams['figure.figsize'] = (5,3)\n",
    "colors = sns.color_palette('crest_r')\n",
    "plt.pie(data = df_todos_recursos, x = \"cursos\", labels=labels, colors=colors)\n",
    "plt.title('Cursos que possuem todos os recursos de acessibilidade')\n",
    "plt.savefig('figura5.png', transparent = True)"
   ]
  },
  {
   "cell_type": "code",
   "execution_count": null,
   "metadata": {},
   "outputs": [],
   "source": [
    "plt.rcParams['figure.figsize'] = (5,3)\n",
    "sns.barplot(data = df_alunos_raca, x = 'raça', y = 'alunos com deficiência',palette='crest_r')\n",
    "plt.title('Perfil dos alunos com deficiência no Ensino Superior')\n",
    "plt.xlabel('Raça')\n",
    "plt.ylabel('Alunos')\n",
    "plt.savefig('figura5.png', transparent = True)"
   ]
  },
  {
   "cell_type": "code",
   "execution_count": 31,
   "metadata": {},
   "outputs": [
    {
     "data": {
      "text/html": [
       "<div>\n",
       "<style scoped>\n",
       "    .dataframe tbody tr th:only-of-type {\n",
       "        vertical-align: middle;\n",
       "    }\n",
       "\n",
       "    .dataframe tbody tr th {\n",
       "        vertical-align: top;\n",
       "    }\n",
       "\n",
       "    .dataframe thead th {\n",
       "        text-align: right;\n",
       "    }\n",
       "</style>\n",
       "<table border=\"1\" class=\"dataframe\">\n",
       "  <thead>\n",
       "    <tr style=\"text-align: right;\">\n",
       "      <th></th>\n",
       "      <th>matriculados</th>\n",
       "      <th>estado</th>\n",
       "    </tr>\n",
       "  </thead>\n",
       "  <tbody>\n",
       "    <tr>\n",
       "      <th>0</th>\n",
       "      <td>1957167.0</td>\n",
       "      <td>São Paulo</td>\n",
       "    </tr>\n",
       "    <tr>\n",
       "      <th>1</th>\n",
       "      <td>407899.0</td>\n",
       "      <td>Rio de Janeiro</td>\n",
       "    </tr>\n",
       "    <tr>\n",
       "      <th>2</th>\n",
       "      <td>208388.0</td>\n",
       "      <td>Paraná</td>\n",
       "    </tr>\n",
       "    <tr>\n",
       "      <th>3</th>\n",
       "      <td>205248.0</td>\n",
       "      <td>Santa Catarina</td>\n",
       "    </tr>\n",
       "    <tr>\n",
       "      <th>4</th>\n",
       "      <td>166257.0</td>\n",
       "      <td>Minas Gerais</td>\n",
       "    </tr>\n",
       "  </tbody>\n",
       "</table>\n",
       "</div>"
      ],
      "text/plain": [
       "   matriculados          estado\n",
       "0     1957167.0       São Paulo\n",
       "1      407899.0  Rio de Janeiro\n",
       "2      208388.0          Paraná\n",
       "3      205248.0  Santa Catarina\n",
       "4      166257.0    Minas Gerais"
      ]
     },
     "execution_count": 31,
     "metadata": {},
     "output_type": "execute_result"
    }
   ],
   "source": [
    "#extra\n",
    "queryb = 'select sum(f.num_matriculados) as matriculados, r.estado from md03_dw.fatocursodeficiencia f join md03_dw.dimregiao r on f.dimregiao_key = r.`key` group by r.estado order by matriculados desc'\n",
    "df_matriculados_por_estado = pd.read_sql(queryb, con=conn)\n",
    "df_matriculados_por_estado.head()"
   ]
  }
 ],
 "metadata": {
  "interpreter": {
   "hash": "8792339ea1c43ec5df77da05204931fc7b137e63385c0fc27041125ec3ee0a6d"
  },
  "kernelspec": {
   "display_name": "Python 3.9.6 64-bit ('venv': venv)",
   "language": "python",
   "name": "python3"
  },
  "language_info": {
   "codemirror_mode": {
    "name": "ipython",
    "version": 3
   },
   "file_extension": ".py",
   "mimetype": "text/x-python",
   "name": "python",
   "nbconvert_exporter": "python",
   "pygments_lexer": "ipython3",
   "version": "3.9.6"
  },
  "orig_nbformat": 4
 },
 "nbformat": 4,
 "nbformat_minor": 2
}
